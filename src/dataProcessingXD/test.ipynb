{
 "cells": [
  {
   "cell_type": "markdown",
   "metadata": {},
   "source": [
    "## NTUEE儀表板資料處理中心\n",
    "\n",
    "##### 作者：NTUEE儀表板資料組"
   ]
  },
  {
   "cell_type": "markdown",
   "metadata": {},
   "source": [
    "#### 引入必要套件與函數"
   ]
  },
  {
   "cell_type": "code",
   "execution_count": 4,
   "metadata": {},
   "outputs": [
    {
     "name": "stdout",
     "output_type": "stream",
     "text": [
      "Collecting pandas\n",
      "  Downloading pandas-2.1.3-cp311-cp311-macosx_11_0_arm64.whl.metadata (18 kB)\n",
      "Requirement already satisfied: numpy<2,>=1.23.2 in /opt/homebrew/lib/python3.11/site-packages (from pandas) (1.23.5)\n",
      "Requirement already satisfied: python-dateutil>=2.8.2 in /Users/xiguaakako/Library/Python/3.11/lib/python/site-packages (from pandas) (2.8.2)\n",
      "Collecting pytz>=2020.1 (from pandas)\n",
      "  Downloading pytz-2023.3.post1-py2.py3-none-any.whl.metadata (22 kB)\n",
      "Collecting tzdata>=2022.1 (from pandas)\n",
      "  Downloading tzdata-2023.3-py2.py3-none-any.whl (341 kB)\n",
      "\u001b[2K     \u001b[90m━━━━━━━━━━━━━━━━━━━━━━━━━━━━━━━━━━━━━━━\u001b[0m \u001b[32m341.8/341.8 kB\u001b[0m \u001b[31m3.1 MB/s\u001b[0m eta \u001b[36m0:00:00\u001b[0ma \u001b[36m0:00:01\u001b[0m\n",
      "\u001b[?25hRequirement already satisfied: six>=1.5 in /Users/xiguaakako/Library/Python/3.11/lib/python/site-packages (from python-dateutil>=2.8.2->pandas) (1.16.0)\n",
      "Downloading pandas-2.1.3-cp311-cp311-macosx_11_0_arm64.whl (10.8 MB)\n",
      "\u001b[2K   \u001b[90m━━━━━━━━━━━━━━━━━━━━━━━━━━━━━━━━━━━━━━━━\u001b[0m \u001b[32m10.8/10.8 MB\u001b[0m \u001b[31m40.0 MB/s\u001b[0m eta \u001b[36m0:00:00\u001b[0m \u001b[36m0:00:01\u001b[0m\n",
      "\u001b[?25hDownloading pytz-2023.3.post1-py2.py3-none-any.whl (502 kB)\n",
      "\u001b[2K   \u001b[90m━━━━━━━━━━━━━━━━━━━━━━━━━━━━━━━━━━━━━━━━\u001b[0m \u001b[32m502.5/502.5 kB\u001b[0m \u001b[31m8.6 MB/s\u001b[0m eta \u001b[36m0:00:00\u001b[0ma \u001b[36m0:00:01\u001b[0m\n",
      "\u001b[?25hInstalling collected packages: pytz, tzdata, pandas\n",
      "Successfully installed pandas-2.1.3 pytz-2023.3.post1 tzdata-2023.3\n"
     ]
    }
   ],
   "source": [
    "!pip3 install pandas"
   ]
  },
  {
   "cell_type": "markdown",
   "metadata": {},
   "source": [
    "##### 獲取臺北大數據中心資料：```get_datataipei_api```\n"
   ]
  },
  {
   "cell_type": "code",
   "execution_count": 5,
   "metadata": {},
   "outputs": [],
   "source": [
    "# import packages needed\n",
    "import requests\n",
    "import pandas as pd\n",
    "\n",
    "def get_datataipei_api(rid):\n",
    "    '''\n",
    "    Get Data.taipei API，自動遍歷所有資料。\n",
    "    (data.taipei的API單次return最多1000筆，因此需利用offset定位，取得所有資料)\n",
    "    '''\n",
    "    url = f\"\"\"https://data.taipei/api/v1/dataset/{rid}?scope=resourceAquire\"\"\"\n",
    "    response = requests.request(\"GET\", url)\n",
    "    data_dict = response.json()\n",
    "    count = data_dict['result']['count']\n",
    "    res = list()\n",
    "    offset_count = int(count/1000)\n",
    "    for i in range(offset_count+1):\n",
    "        i = i* 1000\n",
    "        url = f\"\"\"https://data.taipei/api/v1/dataset/{rid}?scope=resourceAquire&offset={i}&limit=1000\"\"\"\n",
    "        response = requests.request(\"GET\", url)\n",
    "        get_json = response.json()\n",
    "        res.extend(get_json['result']['results'])\n",
    "    return pd.DataFrame(res)"
   ]
  },
  {
   "cell_type": "markdown",
   "metadata": {},
   "source": [
    "##### 資料庫（不斷更新！）\n"
   ]
  },
  {
   "cell_type": "code",
   "execution_count": 8,
   "metadata": {},
   "outputs": [
    {
     "name": "stdout",
     "output_type": "stream",
     "text": [
      "https://data.taipei/dataset/detail?id=a6394e3f-3514-4542-87bd-de4310a40db3\n"
     ]
    }
   ],
   "source": [
    "dataset_api = {\n",
    "    \"年齡 & 性別分布\": {\n",
    "        \"粗略(幼青老年)\": \"https://data.taipei/dataset/detail?id=1e0c58e9-6aa5-4acb-a5a1-f60bacad60f3\",\n",
    "        \"詳細(年齡)\": \"https://data.taipei/dataset/detail?id=64c8a3a0-3b9a-4f49-a13a-fb1eb2ffa4b1\",\n",
    "        \"詳細\": \"https://data.taipei/dataset/detail?id=a6394e3f-3514-4542-87bd-de4310a40db3\",\n",
    "    },\n",
    "    \"疾病\": {\n",
    "        \"年分-疾病類-人數\": \"https://data.taipei/dataset/detail?id=585e070a-50bf-419d-b521-a103446f4496\",\n",
    "        \"較舊年份\": \"https://data.taipei/dataset/detail?id=eeb730bc-4764-46e5-a2a2-9bdf6dc3912a\",\n",
    "    },\n",
    "    \"醫療機構\": {\n",
    "        \"按科別的醫療院所分布\": \"搜尋相關科別\",\n",
    "        \"健康服務中心\": \"https://data.taipei/dataset/detail?id=d4c6d4e0-c2b4-48e3-99b4-f670d820326b\",\n",
    "        \"老人特約醫院\": {\n",
    "            \"臺北市老人健康檢查特約醫事機構\": \"https://data.taipei/dataset/detail?id=9a1aefde-2e4a-467c-9ec4-256e33ad6df0\",\n",
    "            \"臺北市銀髮族服務_老人收容安置補助名冊\": \"https://data.taipei/dataset/detail?id=23aff01f-67a3-461f-9fda-2fafe4ec9284\",\n",
    "        },\n",
    "        \"慢性病\": {\n",
    "            \"臺北市腎臟病健康促進機構名單\": \"https://data.taipei/dataset/detail?id=5cf845a6-e9d0-42ed-861f-8c88bb1b694c\",\n",
    "            \"臺北市糖尿病共照網醫事機構名單\": \"https://data.taipei/dataset/detail?id=e6f6ced6-4d66-4be4-93af-57b71b17b2b0\",\n",
    "        },\n",
    "        \"醫療糾紛\": \"https://data.taipei/dataset/detail?id=289439b3-35c8-42b3-a4c7-db39df17dcd2\",\n",
    "    },\n",
    "    \"補助 & 救助\": {\n",
    "        \"中低收入戶\": {\n",
    "            \"戶數、金額\": \"https://data.taipei/dataset/detail?id=0b29acd6-9609-48be-984b-dd1281d1f04e\",\n",
    "            \"項目、人數\": \"https://data.taipei/dataset/detail?id=485e17e5-472f-4526-ab5f-b4a9d58b43d8\",\n",
    "            \"臺北市低收入戶家庭補助(87下半年以後)\": \"https://data.taipei/dataset/detail?id=27972a0d-707f-4e70-ba64-28c6fce5a23b\",\n",
    "        },\n",
    "        \"醫療補助\": {\n",
    "            \"臺北市市民醫療補助\": \"https://data.taipei/dataset/detail?id=c0eed3c6-79f2-499a-8269-0c0d4348ccb3\",\n",
    "            \"臺北市社會救助醫療及看護補助\": \"https://data.taipei/dataset/detail?id=dba8d919-b730-4723-a6a5-c1a451275873\",\n",
    "            \"社會福利統計_臺北市市民醫療補助\": \"https://data.taipei/dataset/detail?id=c5e6bff4-5907-4e60-91ed-ea88bc8dc063\",\n",
    "            \"臺北市市民醫療及急難救助按月別\": \"https://data.taipei/dataset/detail?id=652dcd39-3375-469d-bbc4-63573932a718\",\n",
    "            \"臺北市市民急難救助\": \"https://data.taipei/dataset/detail?id=f5db7596-8fb6-40cf-8b7d-1925ddb513c9\",\n",
    "        },\n",
    "    },\n",
    "    \"長照\": {\n",
    "        \"長照喘息服務特約單位\": \"https://data.taipei/dataset/detail?id=959c34b2-9698-4d99-8987-d389efe18c04\",\n",
    "        \"長照專業服務特約單位\": \"https://data.taipei/dataset/detail?id=d3ba4f78-fb09-47ec-867c-53110570d12f\",\n",
    "        \"臺北市立案之一般護理之家一覽表\": \"https://health.gov.taipei/News_Content.aspx?n=B283D71AA0A7D98A&sms=EDD21D8B4B037BC3&s=3B9E85AB87282057\",\n",
    "        \"臺北市長者長期照顧、安養機構及老人公寓概況按月別\": \"https://data.taipei/dataset/detail?id=af257faf-9ee6-4ca7-9631-4e4cb7d4e2fd\",\n",
    "        \"長照機構\": {\n",
    "            \"臺北市銀髮族服務_私立老人安養暨長期照顧機構\": \"9a3e0440-87ea-4793-9240-5c8dc02b5129\",\n",
    "            \"臺北市銀髮族服務_公立老人安養暨長期照顧機構\": \"67549b46-4328-48d3-973f-dd7d3a96dbed\",\n",
    "            \"臺北市銀髮族服務_公設民營老人安養暨長期照顧機構\": \"2aa363e1-6bc3-4312-8388-c4f5e25c7149\",\n",
    "        },\n",
    "    },\n",
    "    \"老人\": {\n",
    "        \"臺北市獨居老人(89－105年)\": \"https://data.taipei/dataset/detail?id=2b4d80c1-29d8-4647-ad2d-9c2658478462\",\n",
    "        \"臺北市獨居老人(106年以後)\": \"https://data.taipei/dataset/detail?id=d4833dcf-0cd1-455e-99b9-ba3bbf23fbe9\",\n",
    "    },\n",
    "}\n",
    "\n"
   ]
  },
  {
   "cell_type": "markdown",
   "metadata": {
    "notebookRunGroups": {
     "groupValue": ""
    }
   },
   "source": [
    "### 1. 步步為銀"
   ]
  },
  {
   "cell_type": "markdown",
   "metadata": {},
   "source": [
    "##### 點子\n",
    "1. 長照機構散佈建立的方便程度位能場\n",
    "2. （獨居）老人散佈圖"
   ]
  },
  {
   "cell_type": "markdown",
   "metadata": {},
   "source": [
    "##### 長照機構散佈建立的方便程度位能場"
   ]
  },
  {
   "cell_type": "markdown",
   "metadata": {},
   "source": [
    "### 2. 臺北歡迎您"
   ]
  },
  {
   "cell_type": "code",
   "execution_count": null,
   "metadata": {},
   "outputs": [],
   "source": []
  },
  {
   "cell_type": "markdown",
   "metadata": {},
   "source": [
    "### 3. 宜居臺北"
   ]
  },
  {
   "cell_type": "markdown",
   "metadata": {},
   "source": []
  },
  {
   "cell_type": "markdown",
   "metadata": {},
   "source": [
    "### 4. 祝您好孕"
   ]
  },
  {
   "cell_type": "markdown",
   "metadata": {},
   "source": []
  },
  {
   "cell_type": "markdown",
   "metadata": {},
   "source": [
    "### 5. 韌性城市"
   ]
  },
  {
   "cell_type": "markdown",
   "metadata": {},
   "source": []
  }
 ],
 "metadata": {
  "kernelspec": {
   "display_name": "Python 3",
   "language": "python",
   "name": "python3"
  },
  "language_info": {
   "codemirror_mode": {
    "name": "ipython",
    "version": 3
   },
   "file_extension": ".py",
   "mimetype": "text/x-python",
   "name": "python",
   "nbconvert_exporter": "python",
   "pygments_lexer": "ipython3",
   "version": "3.11.6"
  }
 },
 "nbformat": 4,
 "nbformat_minor": 2
}
